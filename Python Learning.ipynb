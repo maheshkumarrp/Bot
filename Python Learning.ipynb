{
 "cells": [
  {
   "cell_type": "code",
   "execution_count": 8,
   "metadata": {
    "collapsed": false
   },
   "outputs": [
    {
     "name": "stdout",
     "output_type": "stream",
     "text": [
      "Populating the interactive namespace from numpy and matplotlib\n"
     ]
    }
   ],
   "source": [
    "%pylab inline"
   ]
  },
  {
   "cell_type": "code",
   "execution_count": 9,
   "metadata": {
    "collapsed": true
   },
   "outputs": [],
   "source": [
    "import matplotlib.pyplot as plt"
   ]
  },
  {
   "cell_type": "code",
   "execution_count": 10,
   "metadata": {
    "collapsed": false
   },
   "outputs": [
    {
     "data": {
      "text/plain": [
       "(array([  1.,   0.,   0.,   0.,   0.,   0.,   0.,   1.,   0.,   0.,   0.,\n",
       "          3.,   1.,   0.,   0.,   1.,   0.,   1.,   3.,   0.,   2.,   4.,\n",
       "          6.,   3.,   6.,   3.,   7.,  11.,   8.,   7.,   7.,   6.,   3.,\n",
       "         11.,  10.,  17.,  14.,  22.,  18.,   9.,  14.,  25.,  21.,  20.,\n",
       "         15.,  28.,  23.,  17.,  22.,  20.,  27.,  26.,  28.,  26.,  33.,\n",
       "         25.,  34.,  26.,  27.,  22.,  27.,  23.,  21.,  16.,  24.,  19.,\n",
       "         18.,  20.,  16.,  13.,  17.,  13.,   9.,   8.,  11.,  11.,   6.,\n",
       "         11.,   6.,   7.,   8.,   6.,   5.,   4.,   2.,   1.,   2.,   3.,\n",
       "          2.,   0.,   1.,   1.,   1.,   2.,   0.,   1.,   0.,   0.,   0.,\n",
       "          1.]),\n",
       " array([-3.57217787, -3.50581103, -3.43944419, -3.37307734, -3.3067105 ,\n",
       "        -3.24034365, -3.17397681, -3.10760997, -3.04124312, -2.97487628,\n",
       "        -2.90850943, -2.84214259, -2.77577575, -2.7094089 , -2.64304206,\n",
       "        -2.57667521, -2.51030837, -2.44394153, -2.37757468, -2.31120784,\n",
       "        -2.244841  , -2.17847415, -2.11210731, -2.04574046, -1.97937362,\n",
       "        -1.91300678, -1.84663993, -1.78027309, -1.71390624, -1.6475394 ,\n",
       "        -1.58117256, -1.51480571, -1.44843887, -1.38207202, -1.31570518,\n",
       "        -1.24933834, -1.18297149, -1.11660465, -1.05023781, -0.98387096,\n",
       "        -0.91750412, -0.85113727, -0.78477043, -0.71840359, -0.65203674,\n",
       "        -0.5856699 , -0.51930305, -0.45293621, -0.38656937, -0.32020252,\n",
       "        -0.25383568, -0.18746883, -0.12110199, -0.05473515,  0.0116317 ,\n",
       "         0.07799854,  0.14436538,  0.21073223,  0.27709907,  0.34346592,\n",
       "         0.40983276,  0.4761996 ,  0.54256645,  0.60893329,  0.67530014,\n",
       "         0.74166698,  0.80803382,  0.87440067,  0.94076751,  1.00713436,\n",
       "         1.0735012 ,  1.13986804,  1.20623489,  1.27260173,  1.33896858,\n",
       "         1.40533542,  1.47170226,  1.53806911,  1.60443595,  1.67080279,\n",
       "         1.73716964,  1.80353648,  1.86990333,  1.93627017,  2.00263701,\n",
       "         2.06900386,  2.1353707 ,  2.20173755,  2.26810439,  2.33447123,\n",
       "         2.40083808,  2.46720492,  2.53357177,  2.59993861,  2.66630545,\n",
       "         2.7326723 ,  2.79903914,  2.86540598,  2.93177283,  2.99813967,\n",
       "         3.06450652]),\n",
       " <a list of 100 Patch objects>)"
      ]
     },
     "execution_count": 10,
     "metadata": {},
     "output_type": "execute_result"
    },
    {
     "data": {
      "image/png": "[encoded data removed]",
      "text/plain": [
       "<matplotlib.figure.Figure at 0x2b8b9877c88>"
      ]
     },
     "metadata": {},
     "output_type": "display_data"
    }
   ],
   "source": [
    "plt.hist(np.random.randn(1000), bins=100)"
   ]
  },
  {
   "cell_type": "markdown",
   "metadata": {},
   "source": [
    "$e~{i \\pi} +1 = 0$"
   ]
  },
  {
   "cell_type": "code",
   "execution_count": null,
   "metadata": {
    "collapsed": true
   },
   "outputs": [],
   "source": []
  }
 ],
 "metadata": {
  "anaconda-cloud": {},
  "kernelspec": {
   "display_name": "Python [conda root]",
   "language": "python",
   "name": "conda-root-py"
  },
  "language_info": {
   "codemirror_mode": {
    "name": "ipython",
    "version": 3
   },
   "file_extension": ".py",
   "mimetype": "text/x-python",
   "name": "python",
   "nbconvert_exporter": "python",
   "pygments_lexer": "ipython3",
   "version": "3.5.2"
  }
 },
 "nbformat": 4,
 "nbformat_minor": 1
}
